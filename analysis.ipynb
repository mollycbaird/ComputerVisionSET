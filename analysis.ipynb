{
 "cells": [
  {
   "cell_type": "code",
   "execution_count": 53,
   "metadata": {},
   "outputs": [],
   "source": [
    "import pandas as pd\n",
    "import numpy as np\n",
    "\n",
    "import matplotlib.pyplot as plt\n",
    "\n",
    "%matplotlib inline"
   ]
  },
  {
   "cell_type": "code",
   "execution_count": 2,
   "metadata": {},
   "outputs": [],
   "source": [
    "df = pd.read_csv('./final_SET.csv')"
   ]
  },
  {
   "cell_type": "code",
   "execution_count": 3,
   "metadata": {},
   "outputs": [],
   "source": [
    "fill_dict = {'outlined':0,\n",
    "             'striped':1,\n",
    "             'solid':2}\n",
    "shape_dict = {'oval':0,\n",
    "              'squiggle':1,\n",
    "              'diamond':2}\n",
    "color_dict = {'red':0,\n",
    "              'purple':1,\n",
    "              'green':2}"
   ]
  },
  {
   "cell_type": "code",
   "execution_count": 4,
   "metadata": {},
   "outputs": [],
   "source": [
    "df['fill'] = df['fill'].map(fill_dict) \n",
    "df['shape'] = df['shape'].map(shape_dict)\n",
    "df['color'] = df['color'].map(color_dict)"
   ]
  },
  {
   "cell_type": "code",
   "execution_count": 17,
   "metadata": {},
   "outputs": [
    {
     "data": {
      "text/html": [
       "<div>\n",
       "<style scoped>\n",
       "    .dataframe tbody tr th:only-of-type {\n",
       "        vertical-align: middle;\n",
       "    }\n",
       "\n",
       "    .dataframe tbody tr th {\n",
       "        vertical-align: top;\n",
       "    }\n",
       "\n",
       "    .dataframe thead th {\n",
       "        text-align: right;\n",
       "    }\n",
       "</style>\n",
       "<table border=\"1\" class=\"dataframe\">\n",
       "  <thead>\n",
       "    <tr style=\"text-align: right;\">\n",
       "      <th></th>\n",
       "      <th>card_filename</th>\n",
       "      <th>fill</th>\n",
       "      <th>number</th>\n",
       "      <th>shape</th>\n",
       "      <th>color</th>\n",
       "      <th>0</th>\n",
       "      <th>1</th>\n",
       "      <th>2</th>\n",
       "      <th>3</th>\n",
       "      <th>4</th>\n",
       "      <th>...</th>\n",
       "      <th>5240</th>\n",
       "      <th>5241</th>\n",
       "      <th>5242</th>\n",
       "      <th>5243</th>\n",
       "      <th>5244</th>\n",
       "      <th>5245</th>\n",
       "      <th>5246</th>\n",
       "      <th>5247</th>\n",
       "      <th>5248</th>\n",
       "      <th>5249</th>\n",
       "    </tr>\n",
       "  </thead>\n",
       "  <tbody>\n",
       "    <tr>\n",
       "      <th>0</th>\n",
       "      <td>SET0007</td>\n",
       "      <td>1</td>\n",
       "      <td>3</td>\n",
       "      <td>1</td>\n",
       "      <td>0</td>\n",
       "      <td>255</td>\n",
       "      <td>255</td>\n",
       "      <td>255</td>\n",
       "      <td>255</td>\n",
       "      <td>255</td>\n",
       "      <td>...</td>\n",
       "      <td>255</td>\n",
       "      <td>255</td>\n",
       "      <td>255</td>\n",
       "      <td>255</td>\n",
       "      <td>255</td>\n",
       "      <td>255</td>\n",
       "      <td>255</td>\n",
       "      <td>255</td>\n",
       "      <td>255</td>\n",
       "      <td>255</td>\n",
       "    </tr>\n",
       "    <tr>\n",
       "      <th>1</th>\n",
       "      <td>SeT0063.jpg</td>\n",
       "      <td>0</td>\n",
       "      <td>1</td>\n",
       "      <td>0</td>\n",
       "      <td>1</td>\n",
       "      <td>255</td>\n",
       "      <td>255</td>\n",
       "      <td>255</td>\n",
       "      <td>255</td>\n",
       "      <td>255</td>\n",
       "      <td>...</td>\n",
       "      <td>255</td>\n",
       "      <td>255</td>\n",
       "      <td>255</td>\n",
       "      <td>255</td>\n",
       "      <td>255</td>\n",
       "      <td>255</td>\n",
       "      <td>255</td>\n",
       "      <td>255</td>\n",
       "      <td>255</td>\n",
       "      <td>255</td>\n",
       "    </tr>\n",
       "    <tr>\n",
       "      <th>2</th>\n",
       "      <td>SeT0077.jpg</td>\n",
       "      <td>0</td>\n",
       "      <td>2</td>\n",
       "      <td>2</td>\n",
       "      <td>1</td>\n",
       "      <td>255</td>\n",
       "      <td>255</td>\n",
       "      <td>255</td>\n",
       "      <td>255</td>\n",
       "      <td>255</td>\n",
       "      <td>...</td>\n",
       "      <td>255</td>\n",
       "      <td>255</td>\n",
       "      <td>255</td>\n",
       "      <td>255</td>\n",
       "      <td>255</td>\n",
       "      <td>255</td>\n",
       "      <td>255</td>\n",
       "      <td>255</td>\n",
       "      <td>255</td>\n",
       "      <td>255</td>\n",
       "    </tr>\n",
       "    <tr>\n",
       "      <th>3</th>\n",
       "      <td>SeT0076.jpg</td>\n",
       "      <td>1</td>\n",
       "      <td>2</td>\n",
       "      <td>2</td>\n",
       "      <td>1</td>\n",
       "      <td>255</td>\n",
       "      <td>255</td>\n",
       "      <td>255</td>\n",
       "      <td>255</td>\n",
       "      <td>255</td>\n",
       "      <td>...</td>\n",
       "      <td>255</td>\n",
       "      <td>255</td>\n",
       "      <td>255</td>\n",
       "      <td>255</td>\n",
       "      <td>255</td>\n",
       "      <td>255</td>\n",
       "      <td>255</td>\n",
       "      <td>255</td>\n",
       "      <td>255</td>\n",
       "      <td>255</td>\n",
       "    </tr>\n",
       "    <tr>\n",
       "      <th>4</th>\n",
       "      <td>SeT0062.jpg</td>\n",
       "      <td>0</td>\n",
       "      <td>3</td>\n",
       "      <td>2</td>\n",
       "      <td>1</td>\n",
       "      <td>255</td>\n",
       "      <td>255</td>\n",
       "      <td>255</td>\n",
       "      <td>255</td>\n",
       "      <td>255</td>\n",
       "      <td>...</td>\n",
       "      <td>255</td>\n",
       "      <td>255</td>\n",
       "      <td>255</td>\n",
       "      <td>255</td>\n",
       "      <td>255</td>\n",
       "      <td>255</td>\n",
       "      <td>255</td>\n",
       "      <td>255</td>\n",
       "      <td>255</td>\n",
       "      <td>255</td>\n",
       "    </tr>\n",
       "  </tbody>\n",
       "</table>\n",
       "<p>5 rows × 5255 columns</p>\n",
       "</div>"
      ],
      "text/plain": [
       "  card_filename  fill  number  shape  color    0    1    2    3    4  ...  \\\n",
       "0       SET0007     1       3      1      0  255  255  255  255  255  ...   \n",
       "1   SeT0063.jpg     0       1      0      1  255  255  255  255  255  ...   \n",
       "2   SeT0077.jpg     0       2      2      1  255  255  255  255  255  ...   \n",
       "3   SeT0076.jpg     1       2      2      1  255  255  255  255  255  ...   \n",
       "4   SeT0062.jpg     0       3      2      1  255  255  255  255  255  ...   \n",
       "\n",
       "   5240  5241  5242  5243  5244  5245  5246  5247  5248  5249  \n",
       "0   255   255   255   255   255   255   255   255   255   255  \n",
       "1   255   255   255   255   255   255   255   255   255   255  \n",
       "2   255   255   255   255   255   255   255   255   255   255  \n",
       "3   255   255   255   255   255   255   255   255   255   255  \n",
       "4   255   255   255   255   255   255   255   255   255   255  \n",
       "\n",
       "[5 rows x 5255 columns]"
      ]
     },
     "execution_count": 17,
     "metadata": {},
     "output_type": "execute_result"
    }
   ],
   "source": [
    "df.head()"
   ]
  },
  {
   "cell_type": "code",
   "execution_count": 8,
   "metadata": {},
   "outputs": [],
   "source": [
    "wrong_sets_indices = np.load('./mislabeled_indices.npy')"
   ]
  },
  {
   "cell_type": "code",
   "execution_count": 20,
   "metadata": {},
   "outputs": [
    {
     "data": {
      "text/plain": [
       "70"
      ]
     },
     "execution_count": 20,
     "metadata": {},
     "output_type": "execute_result"
    }
   ],
   "source": [
    "wrong_sets_indices[0][0]"
   ]
  },
  {
   "cell_type": "code",
   "execution_count": 11,
   "metadata": {},
   "outputs": [],
   "source": [
    "wrong_sets_df = pd.DataFrame(wrong_sets_indices)"
   ]
  },
  {
   "cell_type": "code",
   "execution_count": 12,
   "metadata": {},
   "outputs": [
    {
     "data": {
      "text/html": [
       "<div>\n",
       "<style scoped>\n",
       "    .dataframe tbody tr th:only-of-type {\n",
       "        vertical-align: middle;\n",
       "    }\n",
       "\n",
       "    .dataframe tbody tr th {\n",
       "        vertical-align: top;\n",
       "    }\n",
       "\n",
       "    .dataframe thead th {\n",
       "        text-align: right;\n",
       "    }\n",
       "</style>\n",
       "<table border=\"1\" class=\"dataframe\">\n",
       "  <thead>\n",
       "    <tr style=\"text-align: right;\">\n",
       "      <th></th>\n",
       "      <th>0</th>\n",
       "      <th>1</th>\n",
       "      <th>2</th>\n",
       "    </tr>\n",
       "  </thead>\n",
       "  <tbody>\n",
       "    <tr>\n",
       "      <th>0</th>\n",
       "      <td>70</td>\n",
       "      <td>71</td>\n",
       "      <td>73</td>\n",
       "    </tr>\n",
       "    <tr>\n",
       "      <th>1</th>\n",
       "      <td>1</td>\n",
       "      <td>34</td>\n",
       "      <td>46</td>\n",
       "    </tr>\n",
       "    <tr>\n",
       "      <th>2</th>\n",
       "      <td>4</td>\n",
       "      <td>47</td>\n",
       "      <td>76</td>\n",
       "    </tr>\n",
       "    <tr>\n",
       "      <th>3</th>\n",
       "      <td>16</td>\n",
       "      <td>59</td>\n",
       "      <td>71</td>\n",
       "    </tr>\n",
       "    <tr>\n",
       "      <th>4</th>\n",
       "      <td>0</td>\n",
       "      <td>10</td>\n",
       "      <td>72</td>\n",
       "    </tr>\n",
       "  </tbody>\n",
       "</table>\n",
       "</div>"
      ],
      "text/plain": [
       "    0   1   2\n",
       "0  70  71  73\n",
       "1   1  34  46\n",
       "2   4  47  76\n",
       "3  16  59  71\n",
       "4   0  10  72"
      ]
     },
     "execution_count": 12,
     "metadata": {},
     "output_type": "execute_result"
    }
   ],
   "source": [
    "wrong_sets_df.head()"
   ]
  },
  {
   "cell_type": "code",
   "execution_count": null,
   "metadata": {},
   "outputs": [],
   "source": [
    "# takes in three labeled cards, \n",
    "# returns 1 if the three form a set, 0 if not\n",
    "\n",
    "def is_set(group_of_3):\n",
    "    if ((group_of_3[0][1]+group_of_3[1][1]+group_of_3[2][1]) % 3) != 0:    # fill\n",
    "        return 0\n",
    "    elif ((group_of_3[0][2]+group_of_3[1][2]+group_of_3[2][2]) % 3) != 0:  # number\n",
    "        return 0\n",
    "    elif ((group_of_3[0][3]+group_of_3[1][3]+group_of_3[2][3]) % 3) != 0:  # shape\n",
    "        return 0\n",
    "    elif ((group_of_3[0][4]+group_of_3[1][4]+group_of_3[2][4]) % 3) != 0:  # color\n",
    "        return 0\n",
    "    else: \n",
    "        return 1"
   ]
  },
  {
   "cell_type": "code",
   "execution_count": 19,
   "metadata": {
    "scrolled": true
   },
   "outputs": [
    {
     "data": {
      "text/plain": [
       "70    1\n",
       "Name: fill, dtype: int64"
      ]
     },
     "execution_count": 19,
     "metadata": {},
     "output_type": "execute_result"
    }
   ],
   "source": [
    "df.iloc[[70]]['fill']"
   ]
  },
  {
   "cell_type": "code",
   "execution_count": 21,
   "metadata": {},
   "outputs": [],
   "source": [
    "def is_attribute_set(card_0, card_1, card_2, attribute):\n",
    "    if ((card_0[attribute] + card_1[attribute] + card_2[attribute]) % 3) == 0:\n",
    "        return 1\n",
    "    else:\n",
    "        return 0"
   ]
  },
  {
   "cell_type": "code",
   "execution_count": null,
   "metadata": {},
   "outputs": [],
   "source": [
    "def is_set(color, shape, fill, number):\n",
    "    if (color == shape) & (shape == fill) & (fill == number):\n",
    "        return "
   ]
  },
  {
   "cell_type": "code",
   "execution_count": 23,
   "metadata": {},
   "outputs": [
    {
     "data": {
      "text/plain": [
       "True"
      ]
     },
     "execution_count": 23,
     "metadata": {},
     "output_type": "execute_result"
    }
   ],
   "source": [
    "c = 1\n",
    "s = 1\n",
    "f = 1\n",
    "n = 1\n",
    "(c==s) & (s==f) & (f == n)"
   ]
  },
  {
   "cell_type": "code",
   "execution_count": 26,
   "metadata": {},
   "outputs": [
    {
     "ename": "TypeError",
     "evalue": "__init__() got an unexpected keyword argument 'axis'",
     "output_type": "error",
     "traceback": [
      "\u001b[0;31m---------------------------------------------------------------------------\u001b[0m",
      "\u001b[0;31mTypeError\u001b[0m                                 Traceback (most recent call last)",
      "\u001b[0;32m<ipython-input-26-bebc9c027b28>\u001b[0m in \u001b[0;36m<module>\u001b[0;34m\u001b[0m\n\u001b[1;32m      1\u001b[0m \u001b[0mplace_holder\u001b[0m \u001b[0;34m=\u001b[0m \u001b[0;34m[\u001b[0m\u001b[0;36m1\u001b[0m\u001b[0;34m,\u001b[0m \u001b[0;36m2\u001b[0m\u001b[0;34m,\u001b[0m \u001b[0;36m3\u001b[0m\u001b[0;34m,\u001b[0m \u001b[0;36m4\u001b[0m\u001b[0;34m,\u001b[0m \u001b[0;36m5\u001b[0m\u001b[0;34m,\u001b[0m \u001b[0;36m6\u001b[0m\u001b[0;34m,\u001b[0m \u001b[0;36m7\u001b[0m\u001b[0;34m,\u001b[0m \u001b[0;36m8\u001b[0m\u001b[0;34m]\u001b[0m\u001b[0;34m\u001b[0m\u001b[0;34m\u001b[0m\u001b[0m\n\u001b[0;32m----> 2\u001b[0;31m \u001b[0mwrong_sets_df\u001b[0m \u001b[0;34m=\u001b[0m \u001b[0mpd\u001b[0m\u001b[0;34m.\u001b[0m\u001b[0mDataFrame\u001b[0m\u001b[0;34m(\u001b[0m\u001b[0mplace_holder\u001b[0m\u001b[0;34m,\u001b[0m \u001b[0maxis\u001b[0m \u001b[0;34m=\u001b[0m \u001b[0;36m1\u001b[0m\u001b[0;34m)\u001b[0m\u001b[0;34m\u001b[0m\u001b[0;34m\u001b[0m\u001b[0m\n\u001b[0m",
      "\u001b[0;31mTypeError\u001b[0m: __init__() got an unexpected keyword argument 'axis'"
     ]
    }
   ],
   "source": [
    "place_holder = [1, 2, 3, 4, 5, 6, 7, 8]\n",
    "wrong_sets_df = pd.DataFrame(place_holder, axis = 1)"
   ]
  },
  {
   "cell_type": "code",
   "execution_count": 36,
   "metadata": {},
   "outputs": [
    {
     "data": {
      "text/html": [
       "<div>\n",
       "<style scoped>\n",
       "    .dataframe tbody tr th:only-of-type {\n",
       "        vertical-align: middle;\n",
       "    }\n",
       "\n",
       "    .dataframe tbody tr th {\n",
       "        vertical-align: top;\n",
       "    }\n",
       "\n",
       "    .dataframe thead th {\n",
       "        text-align: right;\n",
       "    }\n",
       "</style>\n",
       "<table border=\"1\" class=\"dataframe\">\n",
       "  <thead>\n",
       "    <tr style=\"text-align: right;\">\n",
       "      <th></th>\n",
       "      <th>0</th>\n",
       "      <th>1</th>\n",
       "      <th>2</th>\n",
       "    </tr>\n",
       "  </thead>\n",
       "  <tbody>\n",
       "    <tr>\n",
       "      <th>0</th>\n",
       "      <td>70</td>\n",
       "      <td>71</td>\n",
       "      <td>73</td>\n",
       "    </tr>\n",
       "  </tbody>\n",
       "</table>\n",
       "</div>"
      ],
      "text/plain": [
       "    0   1   2\n",
       "0  70  71  73"
      ]
     },
     "execution_count": 36,
     "metadata": {},
     "output_type": "execute_result"
    }
   ],
   "source": [
    "pd.DataFrame([wrong_sets_indices[0]])"
   ]
  },
  {
   "cell_type": "code",
   "execution_count": 39,
   "metadata": {},
   "outputs": [],
   "source": [
    "card_0 = df.iloc[wrong_sets_indices[0][0]]\n",
    "card_1 = df.iloc[wrong_sets_indices[0][1]]\n",
    "card_2 = df.iloc[wrong_sets_indices[0][2]]\n",
    "\n",
    "\n",
    "# creating dataframe\n",
    "set_df = pd.DataFrame([wrong_sets_indices[0]])\n",
    "\n",
    "# creating color column\n",
    "color = is_attribute_set(card_0, card_1, card_2, 'color')\n",
    "set_df.insert(loc = 0, column='is_color_set', value=color)\n",
    "\n",
    "# creating shape column\n",
    "shape = is_attribute_set(card_0, card_1, card_2, 'shape')\n",
    "set_df.insert(loc = 1, column='is_shape_set', value=shape)\n",
    "\n",
    "# creating number column\n",
    "number = is_attribute_set(card_0, card_1, card_2, 'number')\n",
    "set_df.insert(loc = 1, column='is_number_set', value=number)\n",
    "\n",
    "# creating fill column\n",
    "fill = is_attribute_set(card_0, card_1, card_2, 'fill')\n",
    "set_df.insert(loc = 1, column='is_fill_set', value=fill)\n",
    "\n",
    "# creating set column\n",
    "is_set = ((color == shape) & (shape == fill) & (fill == number))\n",
    "set_df.insert(loc = 1, column='is_set', value=is_set)\n",
    "\n",
    "# concatonate with final dataframe\n",
    "wrong_sets_df = pd.DataFrame(set_df)"
   ]
  },
  {
   "cell_type": "code",
   "execution_count": 40,
   "metadata": {},
   "outputs": [
    {
     "data": {
      "text/html": [
       "<div>\n",
       "<style scoped>\n",
       "    .dataframe tbody tr th:only-of-type {\n",
       "        vertical-align: middle;\n",
       "    }\n",
       "\n",
       "    .dataframe tbody tr th {\n",
       "        vertical-align: top;\n",
       "    }\n",
       "\n",
       "    .dataframe thead th {\n",
       "        text-align: right;\n",
       "    }\n",
       "</style>\n",
       "<table border=\"1\" class=\"dataframe\">\n",
       "  <thead>\n",
       "    <tr style=\"text-align: right;\">\n",
       "      <th></th>\n",
       "      <th>is_color_set</th>\n",
       "      <th>is_set</th>\n",
       "      <th>is_fill_set</th>\n",
       "      <th>is_number_set</th>\n",
       "      <th>is_shape_set</th>\n",
       "      <th>0</th>\n",
       "      <th>1</th>\n",
       "      <th>2</th>\n",
       "    </tr>\n",
       "  </thead>\n",
       "  <tbody>\n",
       "    <tr>\n",
       "      <th>0</th>\n",
       "      <td>1</td>\n",
       "      <td>False</td>\n",
       "      <td>0</td>\n",
       "      <td>1</td>\n",
       "      <td>0</td>\n",
       "      <td>70</td>\n",
       "      <td>71</td>\n",
       "      <td>73</td>\n",
       "    </tr>\n",
       "  </tbody>\n",
       "</table>\n",
       "</div>"
      ],
      "text/plain": [
       "   is_color_set  is_set  is_fill_set  is_number_set  is_shape_set   0   1   2\n",
       "0             1   False            0              1             0  70  71  73"
      ]
     },
     "execution_count": 40,
     "metadata": {},
     "output_type": "execute_result"
    }
   ],
   "source": [
    "wrong_sets_df"
   ]
  },
  {
   "cell_type": "code",
   "execution_count": 41,
   "metadata": {},
   "outputs": [
    {
     "name": "stdout",
     "output_type": "stream",
     "text": [
      "done with 1\n",
      "done with 2\n",
      "done with 3\n",
      "done with 4\n",
      "done with 5\n",
      "done with 6\n",
      "done with 7\n",
      "done with 8\n",
      "done with 9\n",
      "done with 10\n",
      "done with 11\n",
      "done with 12\n",
      "done with 13\n",
      "done with 14\n",
      "done with 15\n",
      "done with 16\n",
      "done with 17\n",
      "done with 18\n",
      "done with 19\n",
      "done with 20\n",
      "done with 21\n",
      "done with 22\n",
      "done with 23\n",
      "done with 24\n",
      "done with 25\n",
      "done with 26\n",
      "done with 27\n",
      "done with 28\n",
      "done with 29\n",
      "done with 30\n",
      "done with 31\n",
      "done with 32\n",
      "done with 33\n",
      "done with 34\n",
      "done with 35\n",
      "done with 36\n",
      "done with 37\n",
      "done with 38\n",
      "done with 39\n",
      "done with 40\n",
      "done with 41\n",
      "done with 42\n",
      "done with 43\n",
      "done with 44\n",
      "done with 45\n",
      "done with 46\n",
      "done with 47\n",
      "done with 48\n",
      "done with 49\n",
      "done with 50\n",
      "done with 51\n",
      "done with 52\n",
      "done with 53\n",
      "done with 54\n",
      "done with 55\n",
      "done with 56\n",
      "done with 57\n",
      "done with 58\n",
      "done with 59\n",
      "done with 60\n",
      "done with 61\n",
      "done with 62\n",
      "done with 63\n",
      "done with 64\n",
      "done with 65\n",
      "done with 66\n",
      "done with 67\n",
      "done with 68\n",
      "done with 69\n",
      "done with 70\n",
      "done with 71\n",
      "done with 72\n",
      "done with 73\n",
      "done with 74\n",
      "done with 75\n",
      "done with 76\n",
      "done with 77\n",
      "done with 78\n",
      "done with 79\n",
      "done with 80\n",
      "done with 81\n",
      "done with 82\n",
      "done with 83\n",
      "done with 84\n",
      "done with 85\n",
      "done with 86\n",
      "done with 87\n",
      "done with 88\n",
      "done with 89\n",
      "done with 90\n",
      "done with 91\n",
      "done with 92\n",
      "done with 93\n",
      "done with 94\n",
      "done with 95\n",
      "done with 96\n",
      "done with 97\n",
      "done with 98\n",
      "done with 99\n",
      "done with 100\n",
      "done with 101\n",
      "done with 102\n",
      "done with 103\n",
      "done with 104\n",
      "done with 105\n",
      "done with 106\n",
      "done with 107\n",
      "done with 108\n",
      "done with 109\n",
      "done with 110\n",
      "done with 111\n",
      "done with 112\n",
      "done with 113\n",
      "done with 114\n",
      "done with 115\n",
      "done with 116\n",
      "done with 117\n",
      "done with 118\n",
      "done with 119\n",
      "done with 120\n",
      "done with 121\n",
      "done with 122\n",
      "done with 123\n",
      "done with 124\n",
      "done with 125\n",
      "done with 126\n",
      "done with 127\n",
      "done with 128\n",
      "done with 129\n",
      "done with 130\n",
      "done with 131\n",
      "done with 132\n",
      "done with 133\n",
      "done with 134\n",
      "done with 135\n",
      "done with 136\n"
     ]
    }
   ],
   "source": [
    "\n",
    "\n",
    "for wrong_set in wrong_sets_indices:\n",
    "    \n",
    "    card_0 = df.iloc[wrong_set[0]]\n",
    "    card_1 = df.iloc[wrong_set[1]]\n",
    "    card_2 = df.iloc[wrong_set[2]]\n",
    "    \n",
    "    \n",
    "    # creating dataframe\n",
    "    set_df = pd.DataFrame([wrong_set])\n",
    "\n",
    "    # creating color column\n",
    "    color = is_attribute_set(card_0, card_1, card_2, 'color')\n",
    "    set_df.insert(loc = 1, column='is_color_set', value=color)\n",
    "\n",
    "    # creating shape column\n",
    "    shape = is_attribute_set(card_0, card_1, card_2, 'shape')\n",
    "    set_df.insert(loc = 1, column='is_shape_set', value=shape)\n",
    "\n",
    "    # creating number column\n",
    "    number = is_attribute_set(card_0, card_1, card_2, 'number')\n",
    "    set_df.insert(loc = 1, column='is_number_set', value=number)\n",
    "\n",
    "    # creating fill column\n",
    "    fill = is_attribute_set(card_0, card_1, card_2, 'fill')\n",
    "    set_df.insert(loc = 1, column='is_fill_set', value=fill)\n",
    "    \n",
    "    # creating set column\n",
    "    is_set = ((color == shape) & (shape == fill) & (fill == number))\n",
    "    set_df.insert(loc = 1, column='is_set', value=is_set)\n",
    "    \n",
    "    # concatonate with final dataframe\n",
    "    wrong_sets_df = pd.concat([wrong_sets_df,set_df], axis = 0)\n"
   ]
  },
  {
   "cell_type": "code",
   "execution_count": 42,
   "metadata": {},
   "outputs": [
    {
     "data": {
      "text/html": [
       "<div>\n",
       "<style scoped>\n",
       "    .dataframe tbody tr th:only-of-type {\n",
       "        vertical-align: middle;\n",
       "    }\n",
       "\n",
       "    .dataframe tbody tr th {\n",
       "        vertical-align: top;\n",
       "    }\n",
       "\n",
       "    .dataframe thead th {\n",
       "        text-align: right;\n",
       "    }\n",
       "</style>\n",
       "<table border=\"1\" class=\"dataframe\">\n",
       "  <thead>\n",
       "    <tr style=\"text-align: right;\">\n",
       "      <th></th>\n",
       "      <th>is_color_set</th>\n",
       "      <th>is_set</th>\n",
       "      <th>is_fill_set</th>\n",
       "      <th>is_number_set</th>\n",
       "      <th>is_shape_set</th>\n",
       "      <th>0</th>\n",
       "      <th>1</th>\n",
       "      <th>2</th>\n",
       "    </tr>\n",
       "  </thead>\n",
       "  <tbody>\n",
       "    <tr>\n",
       "      <th>0</th>\n",
       "      <td>1</td>\n",
       "      <td>False</td>\n",
       "      <td>0</td>\n",
       "      <td>1</td>\n",
       "      <td>0</td>\n",
       "      <td>70</td>\n",
       "      <td>71</td>\n",
       "      <td>73</td>\n",
       "    </tr>\n",
       "    <tr>\n",
       "      <th>0</th>\n",
       "      <td>1</td>\n",
       "      <td>False</td>\n",
       "      <td>0</td>\n",
       "      <td>1</td>\n",
       "      <td>0</td>\n",
       "      <td>70</td>\n",
       "      <td>71</td>\n",
       "      <td>73</td>\n",
       "    </tr>\n",
       "    <tr>\n",
       "      <th>0</th>\n",
       "      <td>1</td>\n",
       "      <td>False</td>\n",
       "      <td>1</td>\n",
       "      <td>1</td>\n",
       "      <td>0</td>\n",
       "      <td>1</td>\n",
       "      <td>34</td>\n",
       "      <td>46</td>\n",
       "    </tr>\n",
       "    <tr>\n",
       "      <th>0</th>\n",
       "      <td>1</td>\n",
       "      <td>True</td>\n",
       "      <td>1</td>\n",
       "      <td>1</td>\n",
       "      <td>1</td>\n",
       "      <td>4</td>\n",
       "      <td>47</td>\n",
       "      <td>76</td>\n",
       "    </tr>\n",
       "    <tr>\n",
       "      <th>0</th>\n",
       "      <td>1</td>\n",
       "      <td>True</td>\n",
       "      <td>1</td>\n",
       "      <td>1</td>\n",
       "      <td>1</td>\n",
       "      <td>16</td>\n",
       "      <td>59</td>\n",
       "      <td>71</td>\n",
       "    </tr>\n",
       "    <tr>\n",
       "      <th>...</th>\n",
       "      <td>...</td>\n",
       "      <td>...</td>\n",
       "      <td>...</td>\n",
       "      <td>...</td>\n",
       "      <td>...</td>\n",
       "      <td>...</td>\n",
       "      <td>...</td>\n",
       "      <td>...</td>\n",
       "    </tr>\n",
       "    <tr>\n",
       "      <th>0</th>\n",
       "      <td>1</td>\n",
       "      <td>False</td>\n",
       "      <td>0</td>\n",
       "      <td>1</td>\n",
       "      <td>0</td>\n",
       "      <td>4</td>\n",
       "      <td>9</td>\n",
       "      <td>36</td>\n",
       "    </tr>\n",
       "    <tr>\n",
       "      <th>0</th>\n",
       "      <td>1</td>\n",
       "      <td>False</td>\n",
       "      <td>1</td>\n",
       "      <td>1</td>\n",
       "      <td>0</td>\n",
       "      <td>14</td>\n",
       "      <td>44</td>\n",
       "      <td>56</td>\n",
       "    </tr>\n",
       "    <tr>\n",
       "      <th>0</th>\n",
       "      <td>1</td>\n",
       "      <td>False</td>\n",
       "      <td>0</td>\n",
       "      <td>1</td>\n",
       "      <td>0</td>\n",
       "      <td>28</td>\n",
       "      <td>35</td>\n",
       "      <td>61</td>\n",
       "    </tr>\n",
       "    <tr>\n",
       "      <th>0</th>\n",
       "      <td>1</td>\n",
       "      <td>False</td>\n",
       "      <td>1</td>\n",
       "      <td>0</td>\n",
       "      <td>1</td>\n",
       "      <td>27</td>\n",
       "      <td>40</td>\n",
       "      <td>46</td>\n",
       "    </tr>\n",
       "    <tr>\n",
       "      <th>0</th>\n",
       "      <td>1</td>\n",
       "      <td>False</td>\n",
       "      <td>0</td>\n",
       "      <td>0</td>\n",
       "      <td>0</td>\n",
       "      <td>20</td>\n",
       "      <td>0</td>\n",
       "      <td>63</td>\n",
       "    </tr>\n",
       "  </tbody>\n",
       "</table>\n",
       "<p>137 rows × 8 columns</p>\n",
       "</div>"
      ],
      "text/plain": [
       "    is_color_set  is_set  is_fill_set  is_number_set  is_shape_set   0   1   2\n",
       "0              1   False            0              1             0  70  71  73\n",
       "0              1   False            0              1             0  70  71  73\n",
       "0              1   False            1              1             0   1  34  46\n",
       "0              1    True            1              1             1   4  47  76\n",
       "0              1    True            1              1             1  16  59  71\n",
       "..           ...     ...          ...            ...           ...  ..  ..  ..\n",
       "0              1   False            0              1             0   4   9  36\n",
       "0              1   False            1              1             0  14  44  56\n",
       "0              1   False            0              1             0  28  35  61\n",
       "0              1   False            1              0             1  27  40  46\n",
       "0              1   False            0              0             0  20   0  63\n",
       "\n",
       "[137 rows x 8 columns]"
      ]
     },
     "execution_count": 42,
     "metadata": {},
     "output_type": "execute_result"
    }
   ],
   "source": [
    "wrong_sets_df"
   ]
  },
  {
   "cell_type": "code",
   "execution_count": 43,
   "metadata": {},
   "outputs": [],
   "source": [
    "wrong_sets_df['predicted_is_set'] = (wrong_sets_df['is_set'].astype(int) - 1)*(-1)"
   ]
  },
  {
   "cell_type": "code",
   "execution_count": 44,
   "metadata": {},
   "outputs": [
    {
     "data": {
      "text/html": [
       "<div>\n",
       "<style scoped>\n",
       "    .dataframe tbody tr th:only-of-type {\n",
       "        vertical-align: middle;\n",
       "    }\n",
       "\n",
       "    .dataframe tbody tr th {\n",
       "        vertical-align: top;\n",
       "    }\n",
       "\n",
       "    .dataframe thead th {\n",
       "        text-align: right;\n",
       "    }\n",
       "</style>\n",
       "<table border=\"1\" class=\"dataframe\">\n",
       "  <thead>\n",
       "    <tr style=\"text-align: right;\">\n",
       "      <th></th>\n",
       "      <th>is_color_set</th>\n",
       "      <th>is_set</th>\n",
       "      <th>is_fill_set</th>\n",
       "      <th>is_number_set</th>\n",
       "      <th>is_shape_set</th>\n",
       "      <th>0</th>\n",
       "      <th>1</th>\n",
       "      <th>2</th>\n",
       "      <th>predicted_is_set</th>\n",
       "    </tr>\n",
       "  </thead>\n",
       "  <tbody>\n",
       "    <tr>\n",
       "      <th>0</th>\n",
       "      <td>1</td>\n",
       "      <td>False</td>\n",
       "      <td>0</td>\n",
       "      <td>1</td>\n",
       "      <td>0</td>\n",
       "      <td>70</td>\n",
       "      <td>71</td>\n",
       "      <td>73</td>\n",
       "      <td>1</td>\n",
       "    </tr>\n",
       "    <tr>\n",
       "      <th>0</th>\n",
       "      <td>1</td>\n",
       "      <td>False</td>\n",
       "      <td>0</td>\n",
       "      <td>1</td>\n",
       "      <td>0</td>\n",
       "      <td>70</td>\n",
       "      <td>71</td>\n",
       "      <td>73</td>\n",
       "      <td>1</td>\n",
       "    </tr>\n",
       "    <tr>\n",
       "      <th>0</th>\n",
       "      <td>1</td>\n",
       "      <td>False</td>\n",
       "      <td>1</td>\n",
       "      <td>1</td>\n",
       "      <td>0</td>\n",
       "      <td>1</td>\n",
       "      <td>34</td>\n",
       "      <td>46</td>\n",
       "      <td>1</td>\n",
       "    </tr>\n",
       "    <tr>\n",
       "      <th>0</th>\n",
       "      <td>1</td>\n",
       "      <td>True</td>\n",
       "      <td>1</td>\n",
       "      <td>1</td>\n",
       "      <td>1</td>\n",
       "      <td>4</td>\n",
       "      <td>47</td>\n",
       "      <td>76</td>\n",
       "      <td>0</td>\n",
       "    </tr>\n",
       "    <tr>\n",
       "      <th>0</th>\n",
       "      <td>1</td>\n",
       "      <td>True</td>\n",
       "      <td>1</td>\n",
       "      <td>1</td>\n",
       "      <td>1</td>\n",
       "      <td>16</td>\n",
       "      <td>59</td>\n",
       "      <td>71</td>\n",
       "      <td>0</td>\n",
       "    </tr>\n",
       "  </tbody>\n",
       "</table>\n",
       "</div>"
      ],
      "text/plain": [
       "   is_color_set  is_set  is_fill_set  is_number_set  is_shape_set   0   1   2  \\\n",
       "0             1   False            0              1             0  70  71  73   \n",
       "0             1   False            0              1             0  70  71  73   \n",
       "0             1   False            1              1             0   1  34  46   \n",
       "0             1    True            1              1             1   4  47  76   \n",
       "0             1    True            1              1             1  16  59  71   \n",
       "\n",
       "   predicted_is_set  \n",
       "0                 1  \n",
       "0                 1  \n",
       "0                 1  \n",
       "0                 0  \n",
       "0                 0  "
      ]
     },
     "execution_count": 44,
     "metadata": {},
     "output_type": "execute_result"
    }
   ],
   "source": [
    "wrong_sets_df.head()"
   ]
  },
  {
   "cell_type": "code",
   "execution_count": 45,
   "metadata": {},
   "outputs": [],
   "source": [
    "wrong_sets_df['predicted_color_correct'] = (wrong_sets_df['is_color_set'].astype(int) - wrong_sets_df['predicted_is_set'])"
   ]
  },
  {
   "cell_type": "code",
   "execution_count": 46,
   "metadata": {},
   "outputs": [
    {
     "data": {
      "text/html": [
       "<div>\n",
       "<style scoped>\n",
       "    .dataframe tbody tr th:only-of-type {\n",
       "        vertical-align: middle;\n",
       "    }\n",
       "\n",
       "    .dataframe tbody tr th {\n",
       "        vertical-align: top;\n",
       "    }\n",
       "\n",
       "    .dataframe thead th {\n",
       "        text-align: right;\n",
       "    }\n",
       "</style>\n",
       "<table border=\"1\" class=\"dataframe\">\n",
       "  <thead>\n",
       "    <tr style=\"text-align: right;\">\n",
       "      <th></th>\n",
       "      <th>is_color_set</th>\n",
       "      <th>is_set</th>\n",
       "      <th>is_fill_set</th>\n",
       "      <th>is_number_set</th>\n",
       "      <th>is_shape_set</th>\n",
       "      <th>0</th>\n",
       "      <th>1</th>\n",
       "      <th>2</th>\n",
       "      <th>predicted_is_set</th>\n",
       "      <th>predicted_color_correct</th>\n",
       "    </tr>\n",
       "  </thead>\n",
       "  <tbody>\n",
       "    <tr>\n",
       "      <th>0</th>\n",
       "      <td>1</td>\n",
       "      <td>False</td>\n",
       "      <td>0</td>\n",
       "      <td>1</td>\n",
       "      <td>0</td>\n",
       "      <td>70</td>\n",
       "      <td>71</td>\n",
       "      <td>73</td>\n",
       "      <td>1</td>\n",
       "      <td>0</td>\n",
       "    </tr>\n",
       "    <tr>\n",
       "      <th>0</th>\n",
       "      <td>1</td>\n",
       "      <td>False</td>\n",
       "      <td>0</td>\n",
       "      <td>1</td>\n",
       "      <td>0</td>\n",
       "      <td>70</td>\n",
       "      <td>71</td>\n",
       "      <td>73</td>\n",
       "      <td>1</td>\n",
       "      <td>0</td>\n",
       "    </tr>\n",
       "    <tr>\n",
       "      <th>0</th>\n",
       "      <td>1</td>\n",
       "      <td>False</td>\n",
       "      <td>1</td>\n",
       "      <td>1</td>\n",
       "      <td>0</td>\n",
       "      <td>1</td>\n",
       "      <td>34</td>\n",
       "      <td>46</td>\n",
       "      <td>1</td>\n",
       "      <td>0</td>\n",
       "    </tr>\n",
       "    <tr>\n",
       "      <th>0</th>\n",
       "      <td>1</td>\n",
       "      <td>True</td>\n",
       "      <td>1</td>\n",
       "      <td>1</td>\n",
       "      <td>1</td>\n",
       "      <td>4</td>\n",
       "      <td>47</td>\n",
       "      <td>76</td>\n",
       "      <td>0</td>\n",
       "      <td>1</td>\n",
       "    </tr>\n",
       "    <tr>\n",
       "      <th>0</th>\n",
       "      <td>1</td>\n",
       "      <td>True</td>\n",
       "      <td>1</td>\n",
       "      <td>1</td>\n",
       "      <td>1</td>\n",
       "      <td>16</td>\n",
       "      <td>59</td>\n",
       "      <td>71</td>\n",
       "      <td>0</td>\n",
       "      <td>1</td>\n",
       "    </tr>\n",
       "  </tbody>\n",
       "</table>\n",
       "</div>"
      ],
      "text/plain": [
       "   is_color_set  is_set  is_fill_set  is_number_set  is_shape_set   0   1   2  \\\n",
       "0             1   False            0              1             0  70  71  73   \n",
       "0             1   False            0              1             0  70  71  73   \n",
       "0             1   False            1              1             0   1  34  46   \n",
       "0             1    True            1              1             1   4  47  76   \n",
       "0             1    True            1              1             1  16  59  71   \n",
       "\n",
       "   predicted_is_set  predicted_color_correct  \n",
       "0                 1                        0  \n",
       "0                 1                        0  \n",
       "0                 1                        0  \n",
       "0                 0                        1  \n",
       "0                 0                        1  "
      ]
     },
     "execution_count": 46,
     "metadata": {},
     "output_type": "execute_result"
    }
   ],
   "source": [
    "wrong_sets_df.head()"
   ]
  },
  {
   "cell_type": "code",
   "execution_count": 48,
   "metadata": {},
   "outputs": [],
   "source": [
    "wrong_sets_df.rename(columns = {'predicted_color_correct':'pred_color_incorrect'},inplace = True)"
   ]
  },
  {
   "cell_type": "code",
   "execution_count": 49,
   "metadata": {},
   "outputs": [
    {
     "data": {
      "text/html": [
       "<div>\n",
       "<style scoped>\n",
       "    .dataframe tbody tr th:only-of-type {\n",
       "        vertical-align: middle;\n",
       "    }\n",
       "\n",
       "    .dataframe tbody tr th {\n",
       "        vertical-align: top;\n",
       "    }\n",
       "\n",
       "    .dataframe thead th {\n",
       "        text-align: right;\n",
       "    }\n",
       "</style>\n",
       "<table border=\"1\" class=\"dataframe\">\n",
       "  <thead>\n",
       "    <tr style=\"text-align: right;\">\n",
       "      <th></th>\n",
       "      <th>is_color_set</th>\n",
       "      <th>is_set</th>\n",
       "      <th>is_fill_set</th>\n",
       "      <th>is_number_set</th>\n",
       "      <th>is_shape_set</th>\n",
       "      <th>0</th>\n",
       "      <th>1</th>\n",
       "      <th>2</th>\n",
       "      <th>predicted_is_set</th>\n",
       "      <th>pred_color_incorrect</th>\n",
       "    </tr>\n",
       "  </thead>\n",
       "  <tbody>\n",
       "    <tr>\n",
       "      <th>0</th>\n",
       "      <td>1</td>\n",
       "      <td>False</td>\n",
       "      <td>0</td>\n",
       "      <td>1</td>\n",
       "      <td>0</td>\n",
       "      <td>70</td>\n",
       "      <td>71</td>\n",
       "      <td>73</td>\n",
       "      <td>1</td>\n",
       "      <td>0</td>\n",
       "    </tr>\n",
       "    <tr>\n",
       "      <th>0</th>\n",
       "      <td>1</td>\n",
       "      <td>False</td>\n",
       "      <td>0</td>\n",
       "      <td>1</td>\n",
       "      <td>0</td>\n",
       "      <td>70</td>\n",
       "      <td>71</td>\n",
       "      <td>73</td>\n",
       "      <td>1</td>\n",
       "      <td>0</td>\n",
       "    </tr>\n",
       "    <tr>\n",
       "      <th>0</th>\n",
       "      <td>1</td>\n",
       "      <td>False</td>\n",
       "      <td>1</td>\n",
       "      <td>1</td>\n",
       "      <td>0</td>\n",
       "      <td>1</td>\n",
       "      <td>34</td>\n",
       "      <td>46</td>\n",
       "      <td>1</td>\n",
       "      <td>0</td>\n",
       "    </tr>\n",
       "    <tr>\n",
       "      <th>0</th>\n",
       "      <td>1</td>\n",
       "      <td>True</td>\n",
       "      <td>1</td>\n",
       "      <td>1</td>\n",
       "      <td>1</td>\n",
       "      <td>4</td>\n",
       "      <td>47</td>\n",
       "      <td>76</td>\n",
       "      <td>0</td>\n",
       "      <td>1</td>\n",
       "    </tr>\n",
       "    <tr>\n",
       "      <th>0</th>\n",
       "      <td>1</td>\n",
       "      <td>True</td>\n",
       "      <td>1</td>\n",
       "      <td>1</td>\n",
       "      <td>1</td>\n",
       "      <td>16</td>\n",
       "      <td>59</td>\n",
       "      <td>71</td>\n",
       "      <td>0</td>\n",
       "      <td>1</td>\n",
       "    </tr>\n",
       "  </tbody>\n",
       "</table>\n",
       "</div>"
      ],
      "text/plain": [
       "   is_color_set  is_set  is_fill_set  is_number_set  is_shape_set   0   1   2  \\\n",
       "0             1   False            0              1             0  70  71  73   \n",
       "0             1   False            0              1             0  70  71  73   \n",
       "0             1   False            1              1             0   1  34  46   \n",
       "0             1    True            1              1             1   4  47  76   \n",
       "0             1    True            1              1             1  16  59  71   \n",
       "\n",
       "   predicted_is_set  pred_color_incorrect  \n",
       "0                 1                     0  \n",
       "0                 1                     0  \n",
       "0                 1                     0  \n",
       "0                 0                     1  \n",
       "0                 0                     1  "
      ]
     },
     "execution_count": 49,
     "metadata": {},
     "output_type": "execute_result"
    }
   ],
   "source": [
    "wrong_sets_df.head()"
   ]
  },
  {
   "cell_type": "code",
   "execution_count": 50,
   "metadata": {},
   "outputs": [],
   "source": [
    "wrong_sets_df['pred_fill_incorrect'] = (wrong_sets_df['is_fill_set'].astype(int) - wrong_sets_df['predicted_is_set'])"
   ]
  },
  {
   "cell_type": "code",
   "execution_count": 51,
   "metadata": {},
   "outputs": [],
   "source": [
    "wrong_sets_df['pred_number_incorrect'] = (wrong_sets_df['is_number_set'].astype(int) - wrong_sets_df['predicted_is_set'])"
   ]
  },
  {
   "cell_type": "code",
   "execution_count": 52,
   "metadata": {},
   "outputs": [],
   "source": [
    "wrong_sets_df['pred_shape_incorrect'] = (wrong_sets_df['is_shape_set'].astype(int) - wrong_sets_df['predicted_is_set'])"
   ]
  },
  {
   "cell_type": "code",
   "execution_count": 57,
   "metadata": {},
   "outputs": [
    {
     "data": {
      "text/plain": [
       "(40,)"
      ]
     },
     "execution_count": 57,
     "metadata": {},
     "output_type": "execute_result"
    }
   ],
   "source": [
    "wrong_sets_df[wrong_sets_df['pred_shape_incorrect'] == 0]['pred_shape_incorrect'].shape"
   ]
  },
  {
   "cell_type": "code",
   "execution_count": 58,
   "metadata": {},
   "outputs": [
    {
     "data": {
      "text/plain": [
       "(74,)"
      ]
     },
     "execution_count": 58,
     "metadata": {},
     "output_type": "execute_result"
    }
   ],
   "source": [
    "wrong_sets_df[wrong_sets_df['pred_color_incorrect'] == 0]['pred_color_incorrect'].shape"
   ]
  },
  {
   "cell_type": "code",
   "execution_count": 59,
   "metadata": {},
   "outputs": [
    {
     "data": {
      "text/plain": [
       "(48,)"
      ]
     },
     "execution_count": 59,
     "metadata": {},
     "output_type": "execute_result"
    }
   ],
   "source": [
    "wrong_sets_df[wrong_sets_df['pred_number_incorrect'] == 0]['pred_number_incorrect'].shape"
   ]
  },
  {
   "cell_type": "code",
   "execution_count": 60,
   "metadata": {},
   "outputs": [
    {
     "data": {
      "text/plain": [
       "(48,)"
      ]
     },
     "execution_count": 60,
     "metadata": {},
     "output_type": "execute_result"
    }
   ],
   "source": [
    "wrong_sets_df[wrong_sets_df['pred_fill_incorrect'] == 0]['pred_fill_incorrect'].shape"
   ]
  },
  {
   "cell_type": "code",
   "execution_count": 62,
   "metadata": {},
   "outputs": [],
   "source": [
    "# this is garbage\n",
    "wrong_sets_df['pred_fill_correct2'] = ((wrong_sets_df['is_fill_set'].astype(int) == wrong_sets_df['predicted_is_set'])\n",
    "                                        & (wrong_sets_df['predicted_is_set']== wrong_sets_df['is_set']).astype(int)).astype(int)\n",
    "                                            \n",
    "\n",
    "wrong_sets_df['pred_number_correct2'] = ((wrong_sets_df['is_number_set'].astype(int) == wrong_sets_df['predicted_is_set'])\n",
    "                                        & (wrong_sets_df['predicted_is_set']== wrong_sets_df['is_set']).astype(int)).astype(int)\n",
    "                                         \n",
    "wrong_sets_df['pred_shape_correct2'] = ((wrong_sets_df['is_shape_set'].astype(int) == wrong_sets_df['predicted_is_set'])\n",
    "                                        & (wrong_sets_df['predicted_is_set']== wrong_sets_df['is_set']).astype(int)).astype(int)\n",
    "                                         \n",
    "wrong_sets_df['pred_color_correct2'] = ((wrong_sets_df['is_color_set'].astype(int) == wrong_sets_df['predicted_is_set'])\n",
    "                                        & (wrong_sets_df['predicted_is_set']== wrong_sets_df['is_set']).astype(int)).astype(int)\n",
    "                                         "
   ]
  },
  {
   "cell_type": "code",
   "execution_count": 68,
   "metadata": {},
   "outputs": [
    {
     "data": {
      "text/plain": [
       "0"
      ]
     },
     "execution_count": 68,
     "metadata": {},
     "output_type": "execute_result"
    }
   ],
   "source": [
    "sum(wrong_sets_df['pred_fill_correct2'])"
   ]
  },
  {
   "cell_type": "code",
   "execution_count": 69,
   "metadata": {},
   "outputs": [
    {
     "data": {
      "text/plain": [
       "0"
      ]
     },
     "execution_count": 69,
     "metadata": {},
     "output_type": "execute_result"
    }
   ],
   "source": [
    "sum(wrong_sets_df['pred_number_correct2'])"
   ]
  },
  {
   "cell_type": "code",
   "execution_count": 70,
   "metadata": {},
   "outputs": [],
   "source": [
    "preds = np.load('./sigmoid_preds.npy')"
   ]
  },
  {
   "cell_type": "code",
   "execution_count": 71,
   "metadata": {},
   "outputs": [],
   "source": [
    "wrong_indices = np.load('./wrong_indices.npy')"
   ]
  },
  {
   "cell_type": "code",
   "execution_count": 74,
   "metadata": {},
   "outputs": [],
   "source": [
    "wrong_preds = [preds[i] for i in wrong_indices]"
   ]
  },
  {
   "cell_type": "code",
   "execution_count": 80,
   "metadata": {},
   "outputs": [
    {
     "data": {
      "image/png": "[encoded data removed]",
      "text/plain": [
       "<Figure size 432x288 with 1 Axes>"
      ]
     },
     "metadata": {
      "needs_background": "light"
     },
     "output_type": "display_data"
    }
   ],
   "source": [
    "plt.plot(preds, 'o');\n",
    "plt.plot(wrong_indices, wrong_preds, 'o');\n",
    "plt.savefig('./model_confidence')"
   ]
  },
  {
   "cell_type": "code",
   "execution_count": 87,
   "metadata": {},
   "outputs": [
    {
     "data": {
      "image/png": "[encoded data removed]",
      "text/plain": [
       "<Figure size 432x288 with 1 Axes>"
      ]
     },
     "metadata": {
      "needs_background": "light"
     },
     "output_type": "display_data"
    }
   ],
   "source": [
    "plt.plot(preds, 'o');\n",
    "plt.savefig('./model_confidence_blue')"
   ]
  },
  {
   "cell_type": "code",
   "execution_count": 88,
   "metadata": {},
   "outputs": [],
   "source": [
    "perfect = [0,1]*250"
   ]
  },
  {
   "cell_type": "code",
   "execution_count": 90,
   "metadata": {},
   "outputs": [
    {
     "data": {
      "image/png": "[encoded data removed]",
      "text/plain": [
       "<Figure size 432x288 with 1 Axes>"
      ]
     },
     "metadata": {
      "needs_background": "light"
     },
     "output_type": "display_data"
    }
   ],
   "source": [
    "plt.plot(perfect, 'o');\n",
    "plt.savefig('./model_confidence_perfect')"
   ]
  },
  {
   "cell_type": "code",
   "execution_count": 76,
   "metadata": {},
   "outputs": [
    {
     "data": {
      "text/plain": [
       "526"
      ]
     },
     "execution_count": 76,
     "metadata": {},
     "output_type": "execute_result"
    }
   ],
   "source": [
    "max(wrong_indices)"
   ]
  },
  {
   "cell_type": "code",
   "execution_count": 77,
   "metadata": {},
   "outputs": [
    {
     "data": {
      "text/plain": [
       "[array([0.6205987], dtype=float32),\n",
       " array([0.9996448], dtype=float32),\n",
       " array([0.4115097], dtype=float32),\n",
       " array([0.37684613], dtype=float32),\n",
       " array([0.919081], dtype=float32),\n",
       " array([0.9943663], dtype=float32),\n",
       " array([0.9567929], dtype=float32),\n",
       " array([0.99232936], dtype=float32),\n",
       " array([0.16761637], dtype=float32),\n",
       " array([0.88646144], dtype=float32),\n",
       " array([0.9445713], dtype=float32),\n",
       " array([3.481846e-07], dtype=float32),\n",
       " array([1.], dtype=float32),\n",
       " array([0.99976194], dtype=float32),\n",
       " array([0.92289555], dtype=float32),\n",
       " array([0.9467393], dtype=float32),\n",
       " array([0.9999974], dtype=float32),\n",
       " array([0.5716826], dtype=float32),\n",
       " array([0.99754536], dtype=float32),\n",
       " array([0.6541326], dtype=float32),\n",
       " array([0.76229596], dtype=float32),\n",
       " array([0.9972352], dtype=float32),\n",
       " array([0.89490104], dtype=float32),\n",
       " array([0.14112848], dtype=float32),\n",
       " array([0.9423653], dtype=float32),\n",
       " array([0.1493158], dtype=float32),\n",
       " array([0.03355116], dtype=float32),\n",
       " array([0.10841566], dtype=float32),\n",
       " array([0.13765079], dtype=float32),\n",
       " array([0.8044967], dtype=float32),\n",
       " array([0.2267023], dtype=float32),\n",
       " array([0.55821747], dtype=float32),\n",
       " array([0.97455215], dtype=float32),\n",
       " array([0.0663082], dtype=float32),\n",
       " array([0.9868854], dtype=float32),\n",
       " array([0.9905285], dtype=float32),\n",
       " array([0.5606803], dtype=float32),\n",
       " array([0.83378613], dtype=float32),\n",
       " array([0.9794575], dtype=float32),\n",
       " array([0.07104838], dtype=float32),\n",
       " array([0.99825895], dtype=float32),\n",
       " array([0.15272668], dtype=float32),\n",
       " array([0.6506575], dtype=float32),\n",
       " array([0.9685637], dtype=float32),\n",
       " array([0.06219649], dtype=float32),\n",
       " array([0.99999857], dtype=float32),\n",
       " array([0.21649256], dtype=float32),\n",
       " array([0.9844682], dtype=float32),\n",
       " array([0.45587605], dtype=float32),\n",
       " array([0.23252279], dtype=float32),\n",
       " array([0.13717598], dtype=float32),\n",
       " array([0.999117], dtype=float32),\n",
       " array([0.75020957], dtype=float32),\n",
       " array([0.9750825], dtype=float32),\n",
       " array([0.8067577], dtype=float32),\n",
       " array([0.9894003], dtype=float32),\n",
       " array([0.98702765], dtype=float32),\n",
       " array([0.45101917], dtype=float32),\n",
       " array([0.9246323], dtype=float32),\n",
       " array([0.33792228], dtype=float32),\n",
       " array([0.9968438], dtype=float32),\n",
       " array([0.03892708], dtype=float32),\n",
       " array([0.6175719], dtype=float32),\n",
       " array([0.78196394], dtype=float32),\n",
       " array([0.7912997], dtype=float32),\n",
       " array([0.37710592], dtype=float32),\n",
       " array([0.99884015], dtype=float32),\n",
       " array([0.39550447], dtype=float32),\n",
       " array([0.9700943], dtype=float32),\n",
       " array([0.9889226], dtype=float32),\n",
       " array([2.0633664e-05], dtype=float32),\n",
       " array([1.4660931e-05], dtype=float32),\n",
       " array([0.10038978], dtype=float32),\n",
       " array([0.9994927], dtype=float32),\n",
       " array([0.05253592], dtype=float32),\n",
       " array([0.4963415], dtype=float32),\n",
       " array([0.30252802], dtype=float32),\n",
       " array([0.6469929], dtype=float32),\n",
       " array([0.9985397], dtype=float32),\n",
       " array([0.38217124], dtype=float32),\n",
       " array([0.8664815], dtype=float32),\n",
       " array([0.9057375], dtype=float32),\n",
       " array([0.6804371], dtype=float32),\n",
       " array([1.], dtype=float32),\n",
       " array([0.99020314], dtype=float32),\n",
       " array([0.98631406], dtype=float32),\n",
       " array([0.76877296], dtype=float32),\n",
       " array([0.98406225], dtype=float32),\n",
       " array([0.9999609], dtype=float32),\n",
       " array([0.09974813], dtype=float32),\n",
       " array([0.9009105], dtype=float32),\n",
       " array([0.9227776], dtype=float32),\n",
       " array([0.9974167], dtype=float32),\n",
       " array([0.04155067], dtype=float32),\n",
       " array([0.12393329], dtype=float32),\n",
       " array([0.9620643], dtype=float32),\n",
       " array([0.0127168], dtype=float32),\n",
       " array([0.68823576], dtype=float32),\n",
       " array([0.03511569], dtype=float32),\n",
       " array([0.99990356], dtype=float32),\n",
       " array([0.98173106], dtype=float32),\n",
       " array([0.99944186], dtype=float32),\n",
       " array([0.9993148], dtype=float32),\n",
       " array([0.95000315], dtype=float32),\n",
       " array([0.98582184], dtype=float32),\n",
       " array([0.28978157], dtype=float32),\n",
       " array([0.01183558], dtype=float32),\n",
       " array([0.6848407], dtype=float32),\n",
       " array([0.9750833], dtype=float32),\n",
       " array([0.97419864], dtype=float32),\n",
       " array([0.11517999], dtype=float32),\n",
       " array([0.9959434], dtype=float32),\n",
       " array([0.54681456], dtype=float32),\n",
       " array([0.8216232], dtype=float32),\n",
       " array([0.00959012], dtype=float32),\n",
       " array([0.99756014], dtype=float32),\n",
       " array([0.9995609], dtype=float32),\n",
       " array([0.76047504], dtype=float32),\n",
       " array([0.8666265], dtype=float32),\n",
       " array([0.95640016], dtype=float32),\n",
       " array([0.99950075], dtype=float32),\n",
       " array([0.9143587], dtype=float32),\n",
       " array([0.8872657], dtype=float32),\n",
       " array([0.99902904], dtype=float32),\n",
       " array([0.9816958], dtype=float32),\n",
       " array([0.99399346], dtype=float32),\n",
       " array([0.12619355], dtype=float32),\n",
       " array([0.13837948], dtype=float32),\n",
       " array([0.95343983], dtype=float32),\n",
       " array([0.9983133], dtype=float32),\n",
       " array([0.03784543], dtype=float32),\n",
       " array([0.98926824], dtype=float32),\n",
       " array([1.], dtype=float32),\n",
       " array([0.8265214], dtype=float32),\n",
       " array([0.9999864], dtype=float32),\n",
       " array([0.9563217], dtype=float32)]"
      ]
     },
     "execution_count": 77,
     "metadata": {},
     "output_type": "execute_result"
    }
   ],
   "source": [
    "wrong_preds"
   ]
  },
  {
   "cell_type": "code",
   "execution_count": 86,
   "metadata": {},
   "outputs": [
    {
     "data": {
      "image/png": "[encoded data removed]",
      "text/plain": [
       "<Figure size 432x288 with 1 Axes>"
      ]
     },
     "metadata": {
      "needs_background": "light"
     },
     "output_type": "display_data"
    }
   ],
   "source": [
    "plt.bar(height = [40, 74, 48, 48], \n",
    "        x = ['shape', 'color', 'number', 'fill']);\n",
    "plt.savefig('./performance_by_color')\n"
   ]
  },
  {
   "cell_type": "code",
   "execution_count": null,
   "metadata": {},
   "outputs": [],
   "source": []
  }
 ],
 "metadata": {
  "kernelspec": {
   "display_name": "Python 3",
   "language": "python",
   "name": "python3"
  },
  "language_info": {
   "codemirror_mode": {
    "name": "ipython",
    "version": 3
   },
   "file_extension": ".py",
   "mimetype": "text/x-python",
   "name": "python",
   "nbconvert_exporter": "python",
   "pygments_lexer": "ipython3",
   "version": "3.7.4"
  }
 },
 "nbformat": 4,
 "nbformat_minor": 2
}
